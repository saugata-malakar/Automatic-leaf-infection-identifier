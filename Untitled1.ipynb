{
  "nbformat": 4,
  "nbformat_minor": 0,
  "metadata": {
    "colab": {
      "provenance": [],
      "gpuType": "T4",
      "authorship_tag": "ABX9TyPG4J/S1ZnD2c2UHOYlvjBa",
      "include_colab_link": true
    },
    "kernelspec": {
      "name": "python3",
      "display_name": "Python 3"
    },
    "language_info": {
      "name": "python"
    },
    "accelerator": "GPU"
  },
  "cells": [
    {
      "cell_type": "markdown",
      "metadata": {
        "id": "view-in-github",
        "colab_type": "text"
      },
      "source": [
        "<a href=\"https://colab.research.google.com/github/saugata-malakar/Automatic-leaf-infection-identifier/blob/master/Untitled1.ipynb\" target=\"_parent\"><img src=\"https://colab.research.google.com/assets/colab-badge.svg\" alt=\"Open In Colab\"/></a>"
      ]
    },
    {
      "cell_type": "code",
      "execution_count": 1,
      "metadata": {
        "colab": {
          "base_uri": "https://localhost:8080/"
        },
        "id": "T4o5PPwCj0-V",
        "outputId": "fdba8b2a-cc8a-4ce0-cb95-07bf744d4a02"
      },
      "outputs": [
        {
          "output_type": "stream",
          "name": "stdout",
          "text": [
            "Collecting streamlit\n",
            "  Downloading streamlit-1.45.1-py3-none-any.whl.metadata (8.9 kB)\n",
            "Requirement already satisfied: websocket-client in /usr/local/lib/python3.11/dist-packages (1.8.0)\n",
            "Requirement already satisfied: numpy in /usr/local/lib/python3.11/dist-packages (2.0.2)\n",
            "Requirement already satisfied: pandas in /usr/local/lib/python3.11/dist-packages (2.2.2)\n",
            "Requirement already satisfied: scikit-learn in /usr/local/lib/python3.11/dist-packages (1.6.1)\n",
            "Requirement already satisfied: altair<6,>=4.0 in /usr/local/lib/python3.11/dist-packages (from streamlit) (5.5.0)\n",
            "Requirement already satisfied: blinker<2,>=1.5.0 in /usr/local/lib/python3.11/dist-packages (from streamlit) (1.9.0)\n",
            "Requirement already satisfied: cachetools<6,>=4.0 in /usr/local/lib/python3.11/dist-packages (from streamlit) (5.5.2)\n",
            "Requirement already satisfied: click<9,>=7.0 in /usr/local/lib/python3.11/dist-packages (from streamlit) (8.2.0)\n",
            "Requirement already satisfied: packaging<25,>=20 in /usr/local/lib/python3.11/dist-packages (from streamlit) (24.2)\n",
            "Requirement already satisfied: pillow<12,>=7.1.0 in /usr/local/lib/python3.11/dist-packages (from streamlit) (11.2.1)\n",
            "Requirement already satisfied: protobuf<7,>=3.20 in /usr/local/lib/python3.11/dist-packages (from streamlit) (5.29.4)\n",
            "Requirement already satisfied: pyarrow>=7.0 in /usr/local/lib/python3.11/dist-packages (from streamlit) (18.1.0)\n",
            "Requirement already satisfied: requests<3,>=2.27 in /usr/local/lib/python3.11/dist-packages (from streamlit) (2.32.3)\n",
            "Requirement already satisfied: tenacity<10,>=8.1.0 in /usr/local/lib/python3.11/dist-packages (from streamlit) (9.1.2)\n",
            "Requirement already satisfied: toml<2,>=0.10.1 in /usr/local/lib/python3.11/dist-packages (from streamlit) (0.10.2)\n",
            "Requirement already satisfied: typing-extensions<5,>=4.4.0 in /usr/local/lib/python3.11/dist-packages (from streamlit) (4.13.2)\n",
            "Collecting watchdog<7,>=2.1.5 (from streamlit)\n",
            "  Downloading watchdog-6.0.0-py3-none-manylinux2014_x86_64.whl.metadata (44 kB)\n",
            "\u001b[2K     \u001b[90m━━━━━━━━━━━━━━━━━━━━━━━━━━━━━━━━━━━━━━━━\u001b[0m \u001b[32m44.3/44.3 kB\u001b[0m \u001b[31m2.4 MB/s\u001b[0m eta \u001b[36m0:00:00\u001b[0m\n",
            "\u001b[?25hRequirement already satisfied: gitpython!=3.1.19,<4,>=3.0.7 in /usr/local/lib/python3.11/dist-packages (from streamlit) (3.1.44)\n",
            "Collecting pydeck<1,>=0.8.0b4 (from streamlit)\n",
            "  Downloading pydeck-0.9.1-py2.py3-none-any.whl.metadata (4.1 kB)\n",
            "Requirement already satisfied: tornado<7,>=6.0.3 in /usr/local/lib/python3.11/dist-packages (from streamlit) (6.4.2)\n",
            "Requirement already satisfied: python-dateutil>=2.8.2 in /usr/local/lib/python3.11/dist-packages (from pandas) (2.9.0.post0)\n",
            "Requirement already satisfied: pytz>=2020.1 in /usr/local/lib/python3.11/dist-packages (from pandas) (2025.2)\n",
            "Requirement already satisfied: tzdata>=2022.7 in /usr/local/lib/python3.11/dist-packages (from pandas) (2025.2)\n",
            "Requirement already satisfied: scipy>=1.6.0 in /usr/local/lib/python3.11/dist-packages (from scikit-learn) (1.15.3)\n",
            "Requirement already satisfied: joblib>=1.2.0 in /usr/local/lib/python3.11/dist-packages (from scikit-learn) (1.5.0)\n",
            "Requirement already satisfied: threadpoolctl>=3.1.0 in /usr/local/lib/python3.11/dist-packages (from scikit-learn) (3.6.0)\n",
            "Requirement already satisfied: jinja2 in /usr/local/lib/python3.11/dist-packages (from altair<6,>=4.0->streamlit) (3.1.6)\n",
            "Requirement already satisfied: jsonschema>=3.0 in /usr/local/lib/python3.11/dist-packages (from altair<6,>=4.0->streamlit) (4.23.0)\n",
            "Requirement already satisfied: narwhals>=1.14.2 in /usr/local/lib/python3.11/dist-packages (from altair<6,>=4.0->streamlit) (1.39.0)\n",
            "Requirement already satisfied: gitdb<5,>=4.0.1 in /usr/local/lib/python3.11/dist-packages (from gitpython!=3.1.19,<4,>=3.0.7->streamlit) (4.0.12)\n",
            "Requirement already satisfied: six>=1.5 in /usr/local/lib/python3.11/dist-packages (from python-dateutil>=2.8.2->pandas) (1.17.0)\n",
            "Requirement already satisfied: charset-normalizer<4,>=2 in /usr/local/lib/python3.11/dist-packages (from requests<3,>=2.27->streamlit) (3.4.2)\n",
            "Requirement already satisfied: idna<4,>=2.5 in /usr/local/lib/python3.11/dist-packages (from requests<3,>=2.27->streamlit) (3.10)\n",
            "Requirement already satisfied: urllib3<3,>=1.21.1 in /usr/local/lib/python3.11/dist-packages (from requests<3,>=2.27->streamlit) (2.4.0)\n",
            "Requirement already satisfied: certifi>=2017.4.17 in /usr/local/lib/python3.11/dist-packages (from requests<3,>=2.27->streamlit) (2025.4.26)\n",
            "Requirement already satisfied: smmap<6,>=3.0.1 in /usr/local/lib/python3.11/dist-packages (from gitdb<5,>=4.0.1->gitpython!=3.1.19,<4,>=3.0.7->streamlit) (5.0.2)\n",
            "Requirement already satisfied: MarkupSafe>=2.0 in /usr/local/lib/python3.11/dist-packages (from jinja2->altair<6,>=4.0->streamlit) (3.0.2)\n",
            "Requirement already satisfied: attrs>=22.2.0 in /usr/local/lib/python3.11/dist-packages (from jsonschema>=3.0->altair<6,>=4.0->streamlit) (25.3.0)\n",
            "Requirement already satisfied: jsonschema-specifications>=2023.03.6 in /usr/local/lib/python3.11/dist-packages (from jsonschema>=3.0->altair<6,>=4.0->streamlit) (2025.4.1)\n",
            "Requirement already satisfied: referencing>=0.28.4 in /usr/local/lib/python3.11/dist-packages (from jsonschema>=3.0->altair<6,>=4.0->streamlit) (0.36.2)\n",
            "Requirement already satisfied: rpds-py>=0.7.1 in /usr/local/lib/python3.11/dist-packages (from jsonschema>=3.0->altair<6,>=4.0->streamlit) (0.24.0)\n",
            "Downloading streamlit-1.45.1-py3-none-any.whl (9.9 MB)\n",
            "\u001b[2K   \u001b[90m━━━━━━━━━━━━━━━━━━━━━━━━━━━━━━━━━━━━━━━━\u001b[0m \u001b[32m9.9/9.9 MB\u001b[0m \u001b[31m94.1 MB/s\u001b[0m eta \u001b[36m0:00:00\u001b[0m\n",
            "\u001b[?25hDownloading pydeck-0.9.1-py2.py3-none-any.whl (6.9 MB)\n",
            "\u001b[2K   \u001b[90m━━━━━━━━━━━━━━━━━━━━━━━━━━━━━━━━━━━━━━━━\u001b[0m \u001b[32m6.9/6.9 MB\u001b[0m \u001b[31m90.1 MB/s\u001b[0m eta \u001b[36m0:00:00\u001b[0m\n",
            "\u001b[?25hDownloading watchdog-6.0.0-py3-none-manylinux2014_x86_64.whl (79 kB)\n",
            "\u001b[2K   \u001b[90m━━━━━━━━━━━━━━━━━━━━━━━━━━━━━━━━━━━━━━━━\u001b[0m \u001b[32m79.1/79.1 kB\u001b[0m \u001b[31m8.1 MB/s\u001b[0m eta \u001b[36m0:00:00\u001b[0m\n",
            "\u001b[?25hInstalling collected packages: watchdog, pydeck, streamlit\n",
            "Successfully installed pydeck-0.9.1 streamlit-1.45.1 watchdog-6.0.0\n"
          ]
        }
      ],
      "source": [
        "pip install streamlit websocket-client numpy pandas scikit-learn\n"
      ]
    },
    {
      "cell_type": "code",
      "source": [
        "import streamlit as st\n",
        "from websocket_handler import start_websocket\n",
        "\n",
        "st.set_page_config(layout=\"wide\")\n",
        "\n",
        "# Left Panel: Inputs\n",
        "with st.sidebar:\n",
        "    st.header(\"Trade Parameters\")\n",
        "    exchange = st.selectbox(\"Exchange\", [\"OKX\"])\n",
        "    asset = st.text_input(\"Spot Asset\", \"BTC-USDT-SWAP\")\n",
        "    order_type = st.selectbox(\"Order Type\", [\"Market\"])\n",
        "    quantity = st.number_input(\"Quantity (USD)\", value=100.0)\n",
        "    volatility = st.slider(\"Volatility (%)\", 0.1, 10.0, 1.0)\n",
        "    fee_tier = st.selectbox(\"Fee Tier\", [\"Tier 1\", \"Tier 2\", \"Tier 3\"])\n",
        "\n",
        "# Right Panel: Outputs\n",
        "st.header(\"Simulation Results\")\n",
        "slippage = st.empty()\n",
        "fees = st.empty()\n",
        "impact = st.empty()\n",
        "net_cost = st.empty()\n",
        "maker_taker_ratio = st.empty()\n",
        "latency\n"
      ],
      "metadata": {
        "colab": {
          "base_uri": "https://localhost:8080/",
          "height": 383
        },
        "id": "qm39z0Ulj5fU",
        "outputId": "76d09cf8-769a-465c-b0c5-f57cf935b9e6"
      },
      "execution_count": 2,
      "outputs": [
        {
          "output_type": "error",
          "ename": "ModuleNotFoundError",
          "evalue": "No module named 'websocket_handler'",
          "traceback": [
            "\u001b[0;31m---------------------------------------------------------------------------\u001b[0m",
            "\u001b[0;31mModuleNotFoundError\u001b[0m                       Traceback (most recent call last)",
            "\u001b[0;32m<ipython-input-2-f4c34e34d7f4>\u001b[0m in \u001b[0;36m<cell line: 0>\u001b[0;34m()\u001b[0m\n\u001b[1;32m      1\u001b[0m \u001b[0;32mimport\u001b[0m \u001b[0mstreamlit\u001b[0m \u001b[0;32mas\u001b[0m \u001b[0mst\u001b[0m\u001b[0;34m\u001b[0m\u001b[0;34m\u001b[0m\u001b[0m\n\u001b[0;32m----> 2\u001b[0;31m \u001b[0;32mfrom\u001b[0m \u001b[0mwebsocket_handler\u001b[0m \u001b[0;32mimport\u001b[0m \u001b[0mstart_websocket\u001b[0m\u001b[0;34m\u001b[0m\u001b[0;34m\u001b[0m\u001b[0m\n\u001b[0m\u001b[1;32m      3\u001b[0m \u001b[0;34m\u001b[0m\u001b[0m\n\u001b[1;32m      4\u001b[0m \u001b[0mst\u001b[0m\u001b[0;34m.\u001b[0m\u001b[0mset_page_config\u001b[0m\u001b[0;34m(\u001b[0m\u001b[0mlayout\u001b[0m\u001b[0;34m=\u001b[0m\u001b[0;34m\"wide\"\u001b[0m\u001b[0;34m)\u001b[0m\u001b[0;34m\u001b[0m\u001b[0;34m\u001b[0m\u001b[0m\n\u001b[1;32m      5\u001b[0m \u001b[0;34m\u001b[0m\u001b[0m\n",
            "\u001b[0;31mModuleNotFoundError\u001b[0m: No module named 'websocket_handler'",
            "",
            "\u001b[0;31m---------------------------------------------------------------------------\u001b[0;32m\nNOTE: If your import is failing due to a missing package, you can\nmanually install dependencies using either !pip or !apt.\n\nTo view examples of installing some common dependencies, click the\n\"Open Examples\" button below.\n\u001b[0;31m---------------------------------------------------------------------------\u001b[0m\n"
          ],
          "errorDetails": {
            "actions": [
              {
                "action": "open_url",
                "actionText": "Open Examples",
                "url": "/notebooks/snippets/importing_libraries.ipynb"
              }
            ]
          }
        }
      ]
    },
    {
      "source": [
        "# Create a placeholder file for websocket_handler.py if it doesn't exist\n",
        "# You will need to implement the actual start_websocket function later.\n",
        "# As an example, you can create this file in the same directory as your notebook\n",
        "# with the following minimal content:\n",
        "\n",
        "# --- Start of websocket_handler.py content ---\n",
        "# import websocket\n",
        "# import threading\n",
        "\n",
        "# def start_websocket():\n",
        "#     print(\"Websocket handler is running (placeholder)\")\n",
        "#     # Implement your websocket logic here\n",
        "#     # Example using websocket-client:\n",
        "#     # ws = websocket.WebSocketApp(\"ws://example.com\",\n",
        "#     #                         on_open=on_open,\n",
        "#     #                         on_message=on_message,\n",
        "#     #                         on_error=on_error,\n",
        "#     #                         on_close=on_close)\n",
        "#     # ws_thread = threading.Thread(target=ws.run_forever)\n",
        "#     # ws_thread.daemon = True # Allow the main program to exit even if the thread is running\n",
        "#     # ws_thread.start()\n",
        "\n",
        "# def on_open(ws):\n",
        "#     print(\"WebSocket opened\")\n",
        "\n",
        "# def on_message(ws, message):\n",
        "#     print(f\"Received: {message}\")\n",
        "\n",
        "# def on_error(ws, error):\n",
        "#     print(f\"Error: {error}\")\n",
        "\n",
        "# def on_close(ws, close_status_code, close_msg):\n",
        "#     print(f\"WebSocket closed with status {close_status_code}: {close_msg}\")\n",
        "# --- End of websocket_handler.py content ---\n",
        "\n",
        "# Ensure the websocket_handler.py file exists in the same directory as this notebook\n",
        "# before running this code block.\n",
        "\n",
        "from IPython import get_ipython\n",
        "from IPython.display import display\n",
        "# %%\n",
        "# Use !pip install to run pip as a shell command\n",
        "!pip install streamlit websocket-client numpy pandas scikit-learn\n",
        "\n",
        "# %%\n",
        "import streamlit as st\n",
        "# Assuming websocket_handler.py is a local file\n",
        "from websocket_handler import start_websocket\n",
        "\n",
        "st.set_page_config(layout=\"wide\")\n",
        "\n",
        "# Left Panel: Inputs\n",
        "with st.sidebar:\n",
        "    st.header(\"Trade Parameters\")\n",
        "    exchange = st.selectbox(\"Exchange\", [\"OKX\"])\n",
        "    asset = st.text_input(\"Spot Asset\", \"BTC-USDT-SWAP\")\n",
        "    order_type = st.selectbox(\"Order Type\", [\"Market\"])\n",
        "    quantity = st.number_input(\"Quantity (USD)\", value=100.0)\n",
        "    volatility = st.slider(\"Volatility (%)\", 0.1, 10.0, 1.0)\n",
        "    fee_tier = st.selectbox(\"Fee Tier\", [\"Tier 1\", \"Tier 2\", \"Tier 3\"])\n",
        "\n",
        "# Right Panel: Outputs\n",
        "st.header(\"Simulation Results\")\n",
        "slippage = st.empty()\n",
        "fees = st.empty()\n",
        "impact = st.empty()\n",
        "net_cost = st.empty()\n",
        "maker_taker_ratio = st.empty()\n",
        "latency = st.empty() # Added initialization for 'latency' using st.empty()\n",
        "\n",
        "# %%\n",
        "# You might want to call the start_websocket function here or based on some event\n",
        "# start_websocket()\n",
        "\n",
        "# %%"
      ],
      "cell_type": "code",
      "metadata": {
        "colab": {
          "base_uri": "https://localhost:8080/",
          "height": 1000
        },
        "id": "-GlpU5vNlFzn",
        "outputId": "f9603e12-dca8-4c50-e9fa-3f1b574d01d3"
      },
      "execution_count": 3,
      "outputs": [
        {
          "output_type": "stream",
          "name": "stdout",
          "text": [
            "Requirement already satisfied: streamlit in /usr/local/lib/python3.11/dist-packages (1.45.1)\n",
            "Requirement already satisfied: websocket-client in /usr/local/lib/python3.11/dist-packages (1.8.0)\n",
            "Requirement already satisfied: numpy in /usr/local/lib/python3.11/dist-packages (2.0.2)\n",
            "Requirement already satisfied: pandas in /usr/local/lib/python3.11/dist-packages (2.2.2)\n",
            "Requirement already satisfied: scikit-learn in /usr/local/lib/python3.11/dist-packages (1.6.1)\n",
            "Requirement already satisfied: altair<6,>=4.0 in /usr/local/lib/python3.11/dist-packages (from streamlit) (5.5.0)\n",
            "Requirement already satisfied: blinker<2,>=1.5.0 in /usr/local/lib/python3.11/dist-packages (from streamlit) (1.9.0)\n",
            "Requirement already satisfied: cachetools<6,>=4.0 in /usr/local/lib/python3.11/dist-packages (from streamlit) (5.5.2)\n",
            "Requirement already satisfied: click<9,>=7.0 in /usr/local/lib/python3.11/dist-packages (from streamlit) (8.2.0)\n",
            "Requirement already satisfied: packaging<25,>=20 in /usr/local/lib/python3.11/dist-packages (from streamlit) (24.2)\n",
            "Requirement already satisfied: pillow<12,>=7.1.0 in /usr/local/lib/python3.11/dist-packages (from streamlit) (11.2.1)\n",
            "Requirement already satisfied: protobuf<7,>=3.20 in /usr/local/lib/python3.11/dist-packages (from streamlit) (5.29.4)\n",
            "Requirement already satisfied: pyarrow>=7.0 in /usr/local/lib/python3.11/dist-packages (from streamlit) (18.1.0)\n",
            "Requirement already satisfied: requests<3,>=2.27 in /usr/local/lib/python3.11/dist-packages (from streamlit) (2.32.3)\n",
            "Requirement already satisfied: tenacity<10,>=8.1.0 in /usr/local/lib/python3.11/dist-packages (from streamlit) (9.1.2)\n",
            "Requirement already satisfied: toml<2,>=0.10.1 in /usr/local/lib/python3.11/dist-packages (from streamlit) (0.10.2)\n",
            "Requirement already satisfied: typing-extensions<5,>=4.4.0 in /usr/local/lib/python3.11/dist-packages (from streamlit) (4.13.2)\n",
            "Requirement already satisfied: watchdog<7,>=2.1.5 in /usr/local/lib/python3.11/dist-packages (from streamlit) (6.0.0)\n",
            "Requirement already satisfied: gitpython!=3.1.19,<4,>=3.0.7 in /usr/local/lib/python3.11/dist-packages (from streamlit) (3.1.44)\n",
            "Requirement already satisfied: pydeck<1,>=0.8.0b4 in /usr/local/lib/python3.11/dist-packages (from streamlit) (0.9.1)\n",
            "Requirement already satisfied: tornado<7,>=6.0.3 in /usr/local/lib/python3.11/dist-packages (from streamlit) (6.4.2)\n",
            "Requirement already satisfied: python-dateutil>=2.8.2 in /usr/local/lib/python3.11/dist-packages (from pandas) (2.9.0.post0)\n",
            "Requirement already satisfied: pytz>=2020.1 in /usr/local/lib/python3.11/dist-packages (from pandas) (2025.2)\n",
            "Requirement already satisfied: tzdata>=2022.7 in /usr/local/lib/python3.11/dist-packages (from pandas) (2025.2)\n",
            "Requirement already satisfied: scipy>=1.6.0 in /usr/local/lib/python3.11/dist-packages (from scikit-learn) (1.15.3)\n",
            "Requirement already satisfied: joblib>=1.2.0 in /usr/local/lib/python3.11/dist-packages (from scikit-learn) (1.5.0)\n",
            "Requirement already satisfied: threadpoolctl>=3.1.0 in /usr/local/lib/python3.11/dist-packages (from scikit-learn) (3.6.0)\n",
            "Requirement already satisfied: jinja2 in /usr/local/lib/python3.11/dist-packages (from altair<6,>=4.0->streamlit) (3.1.6)\n",
            "Requirement already satisfied: jsonschema>=3.0 in /usr/local/lib/python3.11/dist-packages (from altair<6,>=4.0->streamlit) (4.23.0)\n",
            "Requirement already satisfied: narwhals>=1.14.2 in /usr/local/lib/python3.11/dist-packages (from altair<6,>=4.0->streamlit) (1.39.0)\n",
            "Requirement already satisfied: gitdb<5,>=4.0.1 in /usr/local/lib/python3.11/dist-packages (from gitpython!=3.1.19,<4,>=3.0.7->streamlit) (4.0.12)\n",
            "Requirement already satisfied: six>=1.5 in /usr/local/lib/python3.11/dist-packages (from python-dateutil>=2.8.2->pandas) (1.17.0)\n",
            "Requirement already satisfied: charset-normalizer<4,>=2 in /usr/local/lib/python3.11/dist-packages (from requests<3,>=2.27->streamlit) (3.4.2)\n",
            "Requirement already satisfied: idna<4,>=2.5 in /usr/local/lib/python3.11/dist-packages (from requests<3,>=2.27->streamlit) (3.10)\n",
            "Requirement already satisfied: urllib3<3,>=1.21.1 in /usr/local/lib/python3.11/dist-packages (from requests<3,>=2.27->streamlit) (2.4.0)\n",
            "Requirement already satisfied: certifi>=2017.4.17 in /usr/local/lib/python3.11/dist-packages (from requests<3,>=2.27->streamlit) (2025.4.26)\n",
            "Requirement already satisfied: smmap<6,>=3.0.1 in /usr/local/lib/python3.11/dist-packages (from gitdb<5,>=4.0.1->gitpython!=3.1.19,<4,>=3.0.7->streamlit) (5.0.2)\n",
            "Requirement already satisfied: MarkupSafe>=2.0 in /usr/local/lib/python3.11/dist-packages (from jinja2->altair<6,>=4.0->streamlit) (3.0.2)\n",
            "Requirement already satisfied: attrs>=22.2.0 in /usr/local/lib/python3.11/dist-packages (from jsonschema>=3.0->altair<6,>=4.0->streamlit) (25.3.0)\n",
            "Requirement already satisfied: jsonschema-specifications>=2023.03.6 in /usr/local/lib/python3.11/dist-packages (from jsonschema>=3.0->altair<6,>=4.0->streamlit) (2025.4.1)\n",
            "Requirement already satisfied: referencing>=0.28.4 in /usr/local/lib/python3.11/dist-packages (from jsonschema>=3.0->altair<6,>=4.0->streamlit) (0.36.2)\n",
            "Requirement already satisfied: rpds-py>=0.7.1 in /usr/local/lib/python3.11/dist-packages (from jsonschema>=3.0->altair<6,>=4.0->streamlit) (0.24.0)\n"
          ]
        },
        {
          "output_type": "error",
          "ename": "ModuleNotFoundError",
          "evalue": "No module named 'websocket_handler'",
          "traceback": [
            "\u001b[0;31m---------------------------------------------------------------------------\u001b[0m",
            "\u001b[0;31mModuleNotFoundError\u001b[0m                       Traceback (most recent call last)",
            "\u001b[0;32m<ipython-input-3-464e7408d81f>\u001b[0m in \u001b[0;36m<cell line: 0>\u001b[0;34m()\u001b[0m\n\u001b[1;32m     46\u001b[0m \u001b[0;32mimport\u001b[0m \u001b[0mstreamlit\u001b[0m \u001b[0;32mas\u001b[0m \u001b[0mst\u001b[0m\u001b[0;34m\u001b[0m\u001b[0;34m\u001b[0m\u001b[0m\n\u001b[1;32m     47\u001b[0m \u001b[0;31m# Assuming websocket_handler.py is a local file\u001b[0m\u001b[0;34m\u001b[0m\u001b[0;34m\u001b[0m\u001b[0m\n\u001b[0;32m---> 48\u001b[0;31m \u001b[0;32mfrom\u001b[0m \u001b[0mwebsocket_handler\u001b[0m \u001b[0;32mimport\u001b[0m \u001b[0mstart_websocket\u001b[0m\u001b[0;34m\u001b[0m\u001b[0;34m\u001b[0m\u001b[0m\n\u001b[0m\u001b[1;32m     49\u001b[0m \u001b[0;34m\u001b[0m\u001b[0m\n\u001b[1;32m     50\u001b[0m \u001b[0mst\u001b[0m\u001b[0;34m.\u001b[0m\u001b[0mset_page_config\u001b[0m\u001b[0;34m(\u001b[0m\u001b[0mlayout\u001b[0m\u001b[0;34m=\u001b[0m\u001b[0;34m\"wide\"\u001b[0m\u001b[0;34m)\u001b[0m\u001b[0;34m\u001b[0m\u001b[0;34m\u001b[0m\u001b[0m\n",
            "\u001b[0;31mModuleNotFoundError\u001b[0m: No module named 'websocket_handler'",
            "",
            "\u001b[0;31m---------------------------------------------------------------------------\u001b[0;32m\nNOTE: If your import is failing due to a missing package, you can\nmanually install dependencies using either !pip or !apt.\n\nTo view examples of installing some common dependencies, click the\n\"Open Examples\" button below.\n\u001b[0;31m---------------------------------------------------------------------------\u001b[0m\n"
          ],
          "errorDetails": {
            "actions": [
              {
                "action": "open_url",
                "actionText": "Open Examples",
                "url": "/notebooks/snippets/importing_libraries.ipynb"
              }
            ]
          }
        }
      ]
    },
    {
      "source": [
        "import os\n",
        "\n",
        "file_content = \"\"\"\n",
        "import websocket\n",
        "import threading\n",
        "\n",
        "def start_websocket():\n",
        "    print(\"Websocket handler is running (placeholder)\")\n",
        "    # Implement your websocket logic here\n",
        "    # Example using websocket-client:\n",
        "    # ws = websocket.WebSocketApp(\"ws://example.com\",\n",
        "    #                         on_open=on_open,\n",
        "    #                         on_message=on_message,\n",
        "    #                         on_error=on_error,\n",
        "    #                         on_close=on_close)\n",
        "    # ws_thread = threading.Thread(target=ws.run_forever)\n",
        "    # ws_thread.daemon = True # Allow the main program to exit even if the thread is running\n",
        "    # ws_thread.start()\n",
        "\n",
        "def on_open(ws):\n",
        "    print(\"WebSocket opened\")\n",
        "\n",
        "def on_message(ws, message):\n",
        "    print(f\"Received: {message}\")\n",
        "\n",
        "def on_error(ws, error):\n",
        "    print(f\"Error: {error}\")\n",
        "\n",
        "def on_close(ws, close_status_code, close_msg):\n",
        "    print(f\"WebSocket closed with status {close_status_code}: {close_msg}\")\n",
        "\"\"\"\n",
        "\n",
        "file_name = \"websocket_handler.py\"\n",
        "\n",
        "# Check if the file already exists to avoid overwriting\n",
        "if not os.path.exists(file_name):\n",
        "    with open(file_name, \"w\") as f:\n",
        "        f.write(file_content)\n",
        "    print(f\"Created placeholder file: {file_name}\")\n",
        "else:\n",
        "    print(f\"File '{file_name}' already exists.\")"
      ],
      "cell_type": "code",
      "metadata": {
        "colab": {
          "base_uri": "https://localhost:8080/"
        },
        "id": "SRDKH-Jdqcej",
        "outputId": "af083e21-4df6-48cd-ddaa-1c40444ead8c"
      },
      "execution_count": 4,
      "outputs": [
        {
          "output_type": "stream",
          "name": "stdout",
          "text": [
            "Created placeholder file: websocket_handler.py\n"
          ]
        }
      ]
    },
    {
      "cell_type": "code",
      "source": [
        "# websocket_handler.py\n",
        "\n",
        "import asyncio\n",
        "import websockets\n",
        "import json\n",
        "import time\n",
        "from threading import Thread\n",
        "\n",
        "def start_websocket(symbol=\"BTC-USDT-SWAP\", update_callback=None):\n",
        "    ws_url = f\"wss://ws.gomarket-cpp.goquant.io/ws/l2-orderbook/okx/{symbol}\"\n",
        "\n",
        "    def run():\n",
        "        async def connect():\n",
        "            async with websockets.connect(ws_url) as websocket:\n",
        "                print(f\"Connected to WebSocket: {ws_url}\")\n",
        "                while True:\n",
        "                    start_time = time.time()\n",
        "                    message = await websocket.recv()\n",
        "                    data = json.loads(message)\n",
        "\n",
        "                    latency = time.time() - start_time\n",
        "\n",
        "                    if update_callback:\n",
        "                        update_callback(data, latency)\n",
        "\n",
        "        asyncio.new_event_loop().run_until_complete(connect())\n",
        "\n",
        "    thread = Thread(target=run)\n",
        "    thread.start()\n"
      ],
      "metadata": {
        "id": "2DhDoieIj5nN"
      },
      "execution_count": 6,
      "outputs": []
    },
    {
      "cell_type": "code",
      "source": [
        "# models.py\n",
        "\n",
        "import numpy as np\n",
        "\n",
        "def estimate_slippage(order_quantity_usd, orderbook):\n",
        "    top_bid = float(orderbook[\"bids\"][0][0])\n",
        "    slippage = 0.001 * np.log1p(order_quantity_usd)  # Dummy logic\n",
        "    return top_bid * slippage\n",
        "\n",
        "def estimate_fees(order_quantity_usd, fee_rate=0.001):\n",
        "    return order_quantity_usd * fee_rate\n",
        "\n",
        "def estimate_market_impact(order_quantity_usd):\n",
        "    return 0.002 * np.sqrt(order_quantity_usd)  # Simplified Almgren-Chriss proxy\n",
        "\n",
        "def predict_maker_taker_proportion():\n",
        "    return 0.3, 0.7  # Dummy values\n",
        "\n",
        "def calculate_net_cost(slippage, fees, impact):\n",
        "    return slippage + fees + impact\n"
      ],
      "metadata": {
        "id": "PSeksUiZq3Te"
      },
      "execution_count": 7,
      "outputs": []
    },
    {
      "cell_type": "code",
      "source": [
        "# main.py\n",
        "\n",
        "import streamlit as st\n",
        "from websocket_handler import start_websocket\n",
        "from models import (\n",
        "    estimate_slippage,\n",
        "    estimate_fees,\n",
        "    estimate_market_impact,\n",
        "    predict_maker_taker_proportion,\n",
        "    calculate_net_cost\n",
        ")\n",
        "\n",
        "st.set_page_config(layout=\"wide\")\n",
        "st.title(\"📈 GoQuant Real-Time Trade Simulator\")\n",
        "\n",
        "# --- Left Panel: Inputs ---\n",
        "with st.sidebar:\n",
        "    st.header(\"Trade Parameters\")\n",
        "    exchange = st.selectbox(\"Exchange\", [\"OKX\"])\n",
        "    asset = st.text_input(\"Spot Asset Symbol (e.g., BTC-USDT-SWAP)\", value=\"BTC-USDT-SWAP\")\n",
        "    order_type = st.selectbox(\"Order Type\", [\"Market\"])\n",
        "    quantity_usd = st.number_input(\"Order Size (USD)\", min_value=10.0, value=100.0)\n",
        "    volatility = st.slider(\"Market Volatility\", 0.0, 1.0, 0.2)\n",
        "    fee_tier = st.selectbox(\"Fee Tier\", [\"Tier 1\", \"Tier 2\", \"Tier 3\"])\n",
        "\n",
        "st.divider()\n",
        "col1, col2 = st.columns(2)\n",
        "\n",
        "with col2:\n",
        "    st.subheader(\"📊 Output Parameters\")\n",
        "    slippage_out = st.empty()\n",
        "    fee_out = st.empty()\n",
        "    impact_out = st.empty()\n",
        "    net_cost_out = st.empty()\n",
        "    proportion_out = st.empty()\n",
        "    latency_out = st.empty()\n",
        "\n",
        "# --- Callback Function ---\n",
        "def update_ui(data, latency):\n",
        "    slippage = estimate_slippage(quantity_usd, data)\n",
        "    fees = estimate_fees(quantity_usd)\n",
        "    impact = estimate_market_impact(quantity_usd)\n",
        "    net_cost = calculate_net_cost(slippage, fees, impact)\n",
        "    maker_p, taker_p = predict_maker_taker_proportion()\n",
        "\n",
        "    slippage_out.metric(\"Expected Slippage (USD)\", f\"${slippage:.4f}\")\n",
        "    fee_out.metric(\"Expected Fees (USD)\", f\"${fees:.4f}\")\n",
        "    impact_out.metric(\"Market Impact (USD)\", f\"${impact:.4f}\")\n",
        "    net_cost_out.metric(\"Net Cost (USD)\", f\"${net_cost:.4f}\")\n",
        "    proportion_out.metric(\"Maker / Taker %\", f\"{maker_p*100:.1f}% / {taker_p*100:.1f}%\")\n",
        "    latency_out.metric(\"Internal Latency (ms)\", f\"{latency*1000:.2f} ms\")\n",
        "\n",
        "# --- Launch WebSocket ---\n",
        "start_websocket(symbol=asset, update_callback=update_ui)\n"
      ],
      "metadata": {
        "colab": {
          "base_uri": "https://localhost:8080/",
          "height": 383
        },
        "id": "eP3Z7FPGq74u",
        "outputId": "8bf4d581-5123-475a-b7ff-552ce536fe05"
      },
      "execution_count": 9,
      "outputs": [
        {
          "output_type": "error",
          "ename": "ModuleNotFoundError",
          "evalue": "No module named 'models'",
          "traceback": [
            "\u001b[0;31m---------------------------------------------------------------------------\u001b[0m",
            "\u001b[0;31mModuleNotFoundError\u001b[0m                       Traceback (most recent call last)",
            "\u001b[0;32m<ipython-input-9-21fa2dd848d2>\u001b[0m in \u001b[0;36m<cell line: 0>\u001b[0;34m()\u001b[0m\n\u001b[1;32m      3\u001b[0m \u001b[0;32mimport\u001b[0m \u001b[0mstreamlit\u001b[0m \u001b[0;32mas\u001b[0m \u001b[0mst\u001b[0m\u001b[0;34m\u001b[0m\u001b[0;34m\u001b[0m\u001b[0m\n\u001b[1;32m      4\u001b[0m \u001b[0;32mfrom\u001b[0m \u001b[0mwebsocket_handler\u001b[0m \u001b[0;32mimport\u001b[0m \u001b[0mstart_websocket\u001b[0m\u001b[0;34m\u001b[0m\u001b[0;34m\u001b[0m\u001b[0m\n\u001b[0;32m----> 5\u001b[0;31m from models import (\n\u001b[0m\u001b[1;32m      6\u001b[0m     \u001b[0mestimate_slippage\u001b[0m\u001b[0;34m,\u001b[0m\u001b[0;34m\u001b[0m\u001b[0;34m\u001b[0m\u001b[0m\n\u001b[1;32m      7\u001b[0m     \u001b[0mestimate_fees\u001b[0m\u001b[0;34m,\u001b[0m\u001b[0;34m\u001b[0m\u001b[0;34m\u001b[0m\u001b[0m\n",
            "\u001b[0;31mModuleNotFoundError\u001b[0m: No module named 'models'",
            "",
            "\u001b[0;31m---------------------------------------------------------------------------\u001b[0;32m\nNOTE: If your import is failing due to a missing package, you can\nmanually install dependencies using either !pip or !apt.\n\nTo view examples of installing some common dependencies, click the\n\"Open Examples\" button below.\n\u001b[0;31m---------------------------------------------------------------------------\u001b[0m\n"
          ],
          "errorDetails": {
            "actions": [
              {
                "action": "open_url",
                "actionText": "Open Examples",
                "url": "/notebooks/snippets/importing_libraries.ipynb"
              }
            ]
          }
        }
      ]
    },
    {
      "source": [
        "# main.py\n",
        "\n",
        "import streamlit as st\n",
        "from websocket_handler import start_websocket\n",
        "from models import (\n",
        "    estimate_slippage,\n",
        "    estimate_fees,\n",
        "    estimate_market_impact,\n",
        "    predict_maker_taker_proportion,\n",
        "    calculate_net_cost\n",
        ")\n",
        "\n",
        "st.set_page_config(layout=\"wide\")\n",
        "st.title(\"📈 GoQuant Real-Time Trade Simulator\")\n",
        "\n",
        "# --- Left Panel: Inputs ---\n",
        "with st.sidebar:\n",
        "    st.header(\"Trade Parameters\")\n",
        "    exchange = st.selectbox(\"Exchange\", [\"OKX\"])\n",
        "    asset = st.text_input(\"Spot Asset Symbol (e.g., BTC-USDT-SWAP)\", value=\"BTC-USDT-SWAP\")\n",
        "    order_type = st.selectbox(\"Order Type\", [\"Market\"])\n",
        "    quantity_usd = st.number_input(\"Order Size (USD)\", min_value=10.0, value=100.0)\n",
        "    volatility = st.slider(\"Market Volatility\", 0.0, 1.0, 0.2)\n",
        "    fee_tier = st.selectbox(\"Fee Tier\", [\"Tier 1\", \"Tier 2\", \"Tier 3\"])\n",
        "\n",
        "st.divider()\n",
        "col1, col2 = st.columns(2)\n",
        "\n",
        "with col2:\n",
        "    st.subheader(\"📊 Output Parameters\")\n",
        "    slippage_out = st.empty()\n",
        "    fee_out = st.empty()\n",
        "    impact_out = st.empty()\n",
        "    net_cost_out = st.empty()\n",
        "    proportion_out = st.empty()\n",
        "    latency_out = st.empty()\n",
        "\n",
        "# --- Callback Function ---\n",
        "def update_ui(data, latency):\n",
        "    # Ensure 'quantity_usd' is accessible. In a Streamlit script,\n",
        "    # variables defined outside functions are typically accessible.\n",
        "    # If running in a more complex scenario, you might need to pass it or\n",
        "    # access st.session_state if using session state.\n",
        "    # Assuming 'quantity_usd' is accessible from the scope where update_ui is defined.\n",
        "    # The original code already does this implicitly.\n",
        "\n",
        "    slippage = estimate_slippage(quantity_usd, data)\n",
        "    fees = estimate_fees(quantity_usd)\n",
        "    impact = estimate_market_impact(quantity_usd)\n",
        "    net_cost = calculate_net_cost(slippage, fees, impact)\n",
        "    maker_p, taker_p = predict_maker_taker_proportion()\n",
        "\n",
        "    # Update Streamlit elements\n",
        "    slippage_out.metric(\"Expected Slippage (USD)\", f\"${slippage:.4f}\")\n",
        "    fee_out.metric(\"Expected Fees (USD)\", f\"${fees:.4f}\")\n",
        "    impact_out.metric(\"Market Impact (USD)\", f\"${impact:.4f}\")\n",
        "    net_cost_out.metric(\"Net Cost (USD)\", f\"${net_cost:.4f}\")\n",
        "    proportion_out.metric(\"Maker / Taker %\", f\"{maker_p*100:.1f}% / {taker_p*100:.1f}%\")\n",
        "    latency_out.metric(\"Internal Latency (ms)\", f\"{latency*1000:.2f} ms\")\n",
        "\n",
        "\n",
        "# --- Launch WebSocket ---\n",
        "# Pass the asset symbol obtained from the Streamlit input\n",
        "start_websocket(symbol=asset, update_callback=update_ui)"
      ],
      "cell_type": "code",
      "metadata": {
        "colab": {
          "base_uri": "https://localhost:8080/",
          "height": 383
        },
        "id": "qnFm1qk3rD-y",
        "outputId": "cbc25303-6cb0-42b2-fa35-2dde76b3c39e"
      },
      "execution_count": 10,
      "outputs": [
        {
          "output_type": "error",
          "ename": "ModuleNotFoundError",
          "evalue": "No module named 'models'",
          "traceback": [
            "\u001b[0;31m---------------------------------------------------------------------------\u001b[0m",
            "\u001b[0;31mModuleNotFoundError\u001b[0m                       Traceback (most recent call last)",
            "\u001b[0;32m<ipython-input-10-f4bb72182cb7>\u001b[0m in \u001b[0;36m<cell line: 0>\u001b[0;34m()\u001b[0m\n\u001b[1;32m      3\u001b[0m \u001b[0;32mimport\u001b[0m \u001b[0mstreamlit\u001b[0m \u001b[0;32mas\u001b[0m \u001b[0mst\u001b[0m\u001b[0;34m\u001b[0m\u001b[0;34m\u001b[0m\u001b[0m\n\u001b[1;32m      4\u001b[0m \u001b[0;32mfrom\u001b[0m \u001b[0mwebsocket_handler\u001b[0m \u001b[0;32mimport\u001b[0m \u001b[0mstart_websocket\u001b[0m\u001b[0;34m\u001b[0m\u001b[0;34m\u001b[0m\u001b[0m\n\u001b[0;32m----> 5\u001b[0;31m from models import (\n\u001b[0m\u001b[1;32m      6\u001b[0m     \u001b[0mestimate_slippage\u001b[0m\u001b[0;34m,\u001b[0m\u001b[0;34m\u001b[0m\u001b[0;34m\u001b[0m\u001b[0m\n\u001b[1;32m      7\u001b[0m     \u001b[0mestimate_fees\u001b[0m\u001b[0;34m,\u001b[0m\u001b[0;34m\u001b[0m\u001b[0;34m\u001b[0m\u001b[0m\n",
            "\u001b[0;31mModuleNotFoundError\u001b[0m: No module named 'models'",
            "",
            "\u001b[0;31m---------------------------------------------------------------------------\u001b[0;32m\nNOTE: If your import is failing due to a missing package, you can\nmanually install dependencies using either !pip or !apt.\n\nTo view examples of installing some common dependencies, click the\n\"Open Examples\" button below.\n\u001b[0;31m---------------------------------------------------------------------------\u001b[0m\n"
          ],
          "errorDetails": {
            "actions": [
              {
                "action": "open_url",
                "actionText": "Open Examples",
                "url": "/notebooks/snippets/importing_libraries.ipynb"
              }
            ]
          }
        }
      ]
    },
    {
      "cell_type": "code",
      "source": [],
      "metadata": {
        "id": "HvSoSCuMq-__"
      },
      "execution_count": null,
      "outputs": []
    }
  ]
}